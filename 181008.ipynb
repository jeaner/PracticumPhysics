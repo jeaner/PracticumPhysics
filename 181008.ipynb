{
 "cells": [
  {
   "cell_type": "code",
   "execution_count": 23,
   "metadata": {},
   "outputs": [],
   "source": [
    "import matplotlib \n",
    "import pandas as pd\n",
    "%matplotlib inline\n",
    "import pandas\n",
    "import statistics\n",
    "import sklearn.ensemble\n",
    "from sklearn.ensemble import GradientBoostingClassifier\n",
    "import evaluation"
   ]
  },
  {
   "cell_type": "code",
   "execution_count": 2,
   "metadata": {},
   "outputs": [],
   "source": [
    "folder = 'C:/MSDS/Proj/flav/'\n",
    "df = pandas.read_csv(folder + 'training.csv', index_col='id')"
   ]
  },
  {
   "cell_type": "code",
   "execution_count": 3,
   "metadata": {
    "scrolled": true
   },
   "outputs": [
    {
     "data": {
      "text/html": [
       "<div>\n",
       "<style scoped>\n",
       "    .dataframe tbody tr th:only-of-type {\n",
       "        vertical-align: middle;\n",
       "    }\n",
       "\n",
       "    .dataframe tbody tr th {\n",
       "        vertical-align: top;\n",
       "    }\n",
       "\n",
       "    .dataframe thead th {\n",
       "        text-align: right;\n",
       "    }\n",
       "</style>\n",
       "<table border=\"1\" class=\"dataframe\">\n",
       "  <thead>\n",
       "    <tr style=\"text-align: right;\">\n",
       "      <th></th>\n",
       "      <th>LifeTime</th>\n",
       "      <th>dira</th>\n",
       "      <th>FlightDistance</th>\n",
       "      <th>FlightDistanceError</th>\n",
       "      <th>IP</th>\n",
       "      <th>IPSig</th>\n",
       "      <th>VertexChi2</th>\n",
       "      <th>pt</th>\n",
       "      <th>DOCAone</th>\n",
       "      <th>DOCAtwo</th>\n",
       "      <th>...</th>\n",
       "      <th>p1_p</th>\n",
       "      <th>p2_p</th>\n",
       "      <th>p0_eta</th>\n",
       "      <th>p1_eta</th>\n",
       "      <th>p2_eta</th>\n",
       "      <th>SPDhits</th>\n",
       "      <th>production</th>\n",
       "      <th>signal</th>\n",
       "      <th>mass</th>\n",
       "      <th>min_ANNmuon</th>\n",
       "    </tr>\n",
       "    <tr>\n",
       "      <th>id</th>\n",
       "      <th></th>\n",
       "      <th></th>\n",
       "      <th></th>\n",
       "      <th></th>\n",
       "      <th></th>\n",
       "      <th></th>\n",
       "      <th></th>\n",
       "      <th></th>\n",
       "      <th></th>\n",
       "      <th></th>\n",
       "      <th></th>\n",
       "      <th></th>\n",
       "      <th></th>\n",
       "      <th></th>\n",
       "      <th></th>\n",
       "      <th></th>\n",
       "      <th></th>\n",
       "      <th></th>\n",
       "      <th></th>\n",
       "      <th></th>\n",
       "      <th></th>\n",
       "    </tr>\n",
       "  </thead>\n",
       "  <tbody>\n",
       "    <tr>\n",
       "      <th>18453471</th>\n",
       "      <td>0.001578</td>\n",
       "      <td>0.999999</td>\n",
       "      <td>14.033335</td>\n",
       "      <td>0.681401</td>\n",
       "      <td>0.016039</td>\n",
       "      <td>0.451886</td>\n",
       "      <td>1.900433</td>\n",
       "      <td>1482.037476</td>\n",
       "      <td>0.066667</td>\n",
       "      <td>0.060602</td>\n",
       "      <td>...</td>\n",
       "      <td>12290.760742</td>\n",
       "      <td>39264.398438</td>\n",
       "      <td>3.076006</td>\n",
       "      <td>4.003800</td>\n",
       "      <td>4.031514</td>\n",
       "      <td>458</td>\n",
       "      <td>-99</td>\n",
       "      <td>0</td>\n",
       "      <td>1866.300049</td>\n",
       "      <td>0.277559</td>\n",
       "    </tr>\n",
       "    <tr>\n",
       "      <th>5364094</th>\n",
       "      <td>0.000988</td>\n",
       "      <td>0.999705</td>\n",
       "      <td>5.536157</td>\n",
       "      <td>0.302341</td>\n",
       "      <td>0.142163</td>\n",
       "      <td>9.564503</td>\n",
       "      <td>0.865666</td>\n",
       "      <td>3050.720703</td>\n",
       "      <td>0.024022</td>\n",
       "      <td>0.019245</td>\n",
       "      <td>...</td>\n",
       "      <td>16562.667969</td>\n",
       "      <td>7341.257812</td>\n",
       "      <td>3.228553</td>\n",
       "      <td>2.786543</td>\n",
       "      <td>2.975564</td>\n",
       "      <td>406</td>\n",
       "      <td>-99</td>\n",
       "      <td>0</td>\n",
       "      <td>1727.095947</td>\n",
       "      <td>0.225924</td>\n",
       "    </tr>\n",
       "    <tr>\n",
       "      <th>11130990</th>\n",
       "      <td>0.000877</td>\n",
       "      <td>0.999984</td>\n",
       "      <td>6.117302</td>\n",
       "      <td>0.276463</td>\n",
       "      <td>0.034746</td>\n",
       "      <td>1.970751</td>\n",
       "      <td>10.975849</td>\n",
       "      <td>3895.908691</td>\n",
       "      <td>0.055044</td>\n",
       "      <td>0.047947</td>\n",
       "      <td>...</td>\n",
       "      <td>22695.388672</td>\n",
       "      <td>10225.309570</td>\n",
       "      <td>3.536903</td>\n",
       "      <td>2.865686</td>\n",
       "      <td>3.052810</td>\n",
       "      <td>196</td>\n",
       "      <td>-99</td>\n",
       "      <td>0</td>\n",
       "      <td>1898.588013</td>\n",
       "      <td>0.368630</td>\n",
       "    </tr>\n",
       "    <tr>\n",
       "      <th>15173787</th>\n",
       "      <td>0.000854</td>\n",
       "      <td>0.999903</td>\n",
       "      <td>5.228067</td>\n",
       "      <td>0.220739</td>\n",
       "      <td>0.076389</td>\n",
       "      <td>4.271331</td>\n",
       "      <td>3.276358</td>\n",
       "      <td>4010.781738</td>\n",
       "      <td>0.053779</td>\n",
       "      <td>0.006417</td>\n",
       "      <td>...</td>\n",
       "      <td>16909.515625</td>\n",
       "      <td>9141.426758</td>\n",
       "      <td>3.087461</td>\n",
       "      <td>3.218034</td>\n",
       "      <td>2.375592</td>\n",
       "      <td>137</td>\n",
       "      <td>-99</td>\n",
       "      <td>0</td>\n",
       "      <td>1840.410034</td>\n",
       "      <td>0.246045</td>\n",
       "    </tr>\n",
       "    <tr>\n",
       "      <th>1102544</th>\n",
       "      <td>0.001129</td>\n",
       "      <td>0.999995</td>\n",
       "      <td>39.069534</td>\n",
       "      <td>1.898197</td>\n",
       "      <td>0.120936</td>\n",
       "      <td>4.984982</td>\n",
       "      <td>0.468348</td>\n",
       "      <td>4144.546875</td>\n",
       "      <td>0.004491</td>\n",
       "      <td>0.037326</td>\n",
       "      <td>...</td>\n",
       "      <td>97612.804688</td>\n",
       "      <td>47118.785156</td>\n",
       "      <td>4.632295</td>\n",
       "      <td>4.711155</td>\n",
       "      <td>4.296878</td>\n",
       "      <td>477</td>\n",
       "      <td>-99</td>\n",
       "      <td>0</td>\n",
       "      <td>1899.793945</td>\n",
       "      <td>0.222060</td>\n",
       "    </tr>\n",
       "  </tbody>\n",
       "</table>\n",
       "<p>5 rows × 50 columns</p>\n",
       "</div>"
      ],
      "text/plain": [
       "          LifeTime      dira  FlightDistance  FlightDistanceError        IP  \\\n",
       "id                                                                            \n",
       "18453471  0.001578  0.999999       14.033335             0.681401  0.016039   \n",
       "5364094   0.000988  0.999705        5.536157             0.302341  0.142163   \n",
       "11130990  0.000877  0.999984        6.117302             0.276463  0.034746   \n",
       "15173787  0.000854  0.999903        5.228067             0.220739  0.076389   \n",
       "1102544   0.001129  0.999995       39.069534             1.898197  0.120936   \n",
       "\n",
       "             IPSig  VertexChi2           pt   DOCAone   DOCAtwo     ...       \\\n",
       "id                                                                  ...        \n",
       "18453471  0.451886    1.900433  1482.037476  0.066667  0.060602     ...        \n",
       "5364094   9.564503    0.865666  3050.720703  0.024022  0.019245     ...        \n",
       "11130990  1.970751   10.975849  3895.908691  0.055044  0.047947     ...        \n",
       "15173787  4.271331    3.276358  4010.781738  0.053779  0.006417     ...        \n",
       "1102544   4.984982    0.468348  4144.546875  0.004491  0.037326     ...        \n",
       "\n",
       "                  p1_p          p2_p    p0_eta    p1_eta    p2_eta  SPDhits  \\\n",
       "id                                                                            \n",
       "18453471  12290.760742  39264.398438  3.076006  4.003800  4.031514      458   \n",
       "5364094   16562.667969   7341.257812  3.228553  2.786543  2.975564      406   \n",
       "11130990  22695.388672  10225.309570  3.536903  2.865686  3.052810      196   \n",
       "15173787  16909.515625   9141.426758  3.087461  3.218034  2.375592      137   \n",
       "1102544   97612.804688  47118.785156  4.632295  4.711155  4.296878      477   \n",
       "\n",
       "          production  signal         mass  min_ANNmuon  \n",
       "id                                                      \n",
       "18453471         -99       0  1866.300049     0.277559  \n",
       "5364094          -99       0  1727.095947     0.225924  \n",
       "11130990         -99       0  1898.588013     0.368630  \n",
       "15173787         -99       0  1840.410034     0.246045  \n",
       "1102544          -99       0  1899.793945     0.222060  \n",
       "\n",
       "[5 rows x 50 columns]"
      ]
     },
     "execution_count": 3,
     "metadata": {},
     "output_type": "execute_result"
    }
   ],
   "source": [
    "df.head()"
   ]
  },
  {
   "cell_type": "code",
   "execution_count": 4,
   "metadata": {},
   "outputs": [],
   "source": [
    "#df.info()"
   ]
  },
  {
   "cell_type": "code",
   "execution_count": 5,
   "metadata": {},
   "outputs": [],
   "source": [
    "from sklearn.model_selection import train_test_split\n",
    "\n",
    "tn, val = train_test_split(df, test_size=0.2,random_state=42,stratify=None)\n",
    "val = val[val['min_ANNmuon'] > 0.4]\n",
    "print(tn.shape, val.shape)"
   ]
  },
  {
   "cell_type": "code",
   "execution_count": 6,
   "metadata": {
    "scrolled": true
   },
   "outputs": [
    {
     "name": "stdout",
     "output_type": "stream",
     "text": [
      "(54042, 50) (13511, 50)\n"
     ]
    }
   ],
   "source": [
    "print(tn.shape, val.shape)"
   ]
  },
  {
   "cell_type": "code",
   "execution_count": 7,
   "metadata": {},
   "outputs": [],
   "source": [
    "#AUC scores are only calculated on samples with min_ANNmuon predictions\n",
    "#with values greater than 0.4\n",
    "val = val[val['min_ANNmuon'] > 0.4]"
   ]
  },
  {
   "cell_type": "code",
   "execution_count": 8,
   "metadata": {},
   "outputs": [
    {
     "name": "stdout",
     "output_type": "stream",
     "text": [
      "(54042, 50) (7642, 50)\n"
     ]
    }
   ],
   "source": [
    "print(tn.shape, val.shape)"
   ]
  },
  {
   "cell_type": "markdown",
   "metadata": {},
   "source": [
    "# Variables\n",
    "Omit features not included in test set and SPDhits (causes failure of agreement test)"
   ]
  },
  {
   "cell_type": "code",
   "execution_count": 10,
   "metadata": {
    "scrolled": false
   },
   "outputs": [
    {
     "name": "stdout",
     "output_type": "stream",
     "text": [
      "['LifeTime', 'dira', 'FlightDistance', 'FlightDistanceError', 'IP', 'IPSig', 'VertexChi2', 'pt', 'DOCAone', 'DOCAtwo', 'DOCAthree', 'IP_p0p2', 'IP_p1p2', 'isolationa', 'isolationb', 'isolationc', 'isolationd', 'isolatione', 'isolationf', 'iso', 'CDF1', 'CDF2', 'CDF3', 'ISO_SumBDT', 'p0_IsoBDT', 'p1_IsoBDT', 'p2_IsoBDT', 'p0_track_Chi2Dof', 'p1_track_Chi2Dof', 'p2_track_Chi2Dof', 'p0_IP', 'p1_IP', 'p2_IP', 'p0_IPSig', 'p1_IPSig', 'p2_IPSig', 'p0_pt', 'p1_pt', 'p2_pt', 'p0_p', 'p1_p', 'p2_p', 'p0_eta', 'p1_eta', 'p2_eta']\n"
     ]
    }
   ],
   "source": [
    "v = list(tn.columns.values)\n",
    "variables = []\n",
    "for e in v:\n",
    "    if e not in ('signal', 'mass', 'production', 'min_ANNmuon', 'SPDhits'):\n",
    "        variables.append(e)\n",
    "#print(v)\n",
    "print(variables)"
   ]
  },
  {
   "cell_type": "markdown",
   "metadata": {},
   "source": [
    "# Training"
   ]
  },
  {
   "cell_type": "code",
   "execution_count": 28,
   "metadata": {
    "scrolled": true
   },
   "outputs": [
    {
     "data": {
      "text/plain": [
       "GradientBoostingClassifier(criterion='friedman_mse', init=None,\n",
       "              learning_rate=0.1, loss='deviance', max_depth=6,\n",
       "              max_features=None, max_leaf_nodes=None,\n",
       "              min_impurity_split=1e-07, min_samples_leaf=3,\n",
       "              min_samples_split=2, min_weight_fraction_leaf=0.0,\n",
       "              n_estimators=200, presort='auto', random_state=11,\n",
       "              subsample=0.4, verbose=0, warm_start=False)"
      ]
     },
     "execution_count": 28,
     "metadata": {},
     "output_type": "execute_result"
    }
   ],
   "source": [
    "GBC = GradientBoostingClassifier(n_estimators=200, \n",
    "                                 learning_rate=0.1, \n",
    "                                 subsample=0.4, \n",
    "                                 min_samples_leaf=3, \n",
    "                                 max_depth=6, \n",
    "                                 random_state=11)\n",
    "GBC.fit(tn[variables], tn['signal'])"
   ]
  },
  {
   "cell_type": "code",
   "execution_count": 32,
   "metadata": {
    "scrolled": false
   },
   "outputs": [
    {
     "name": "stdout",
     "output_type": "stream",
     "text": [
      "                     importance\n",
      "isolationd             0.002999\n",
      "isolatione             0.003026\n",
      "isolationf             0.004032\n",
      "isolationb             0.007695\n",
      "isolationc             0.008320\n",
      "isolationa             0.008556\n",
      "iso                    0.011978\n",
      "CDF1                   0.014434\n",
      "FlightDistance         0.015011\n",
      "p2_pt                  0.015169\n",
      "p0_eta                 0.015775\n",
      "DOCAone                0.016383\n",
      "CDF2                   0.016421\n",
      "p1_pt                  0.016519\n",
      "FlightDistanceError    0.016910\n",
      "DOCAthree              0.018937\n",
      "p1_p                   0.019053\n",
      "p0_p                   0.019255\n",
      "CDF3                   0.019451\n",
      "p0_pt                  0.019558\n",
      "p2_p                   0.020499\n",
      "p1_eta                 0.020732\n",
      "p2_eta                 0.020832\n",
      "p1_IP                  0.020892\n",
      "p1_IsoBDT              0.021180\n",
      "pt                     0.021221\n",
      "p2_IsoBDT              0.021568\n",
      "p1_IPSig               0.021841\n",
      "DOCAtwo                0.022036\n",
      "p0_IP                  0.022199\n",
      "p0_IsoBDT              0.022571\n",
      "p2_IP                  0.022666\n",
      "dira                   0.022913\n",
      "LifeTime               0.024793\n",
      "p2_IPSig               0.025179\n",
      "p0_IPSig               0.027679\n",
      "p2_track_Chi2Dof       0.032479\n",
      "IP_p0p2                0.033720\n",
      "ISO_SumBDT             0.034714\n",
      "IP_p1p2                0.035592\n",
      "p1_track_Chi2Dof       0.037100\n",
      "VertexChi2             0.038781\n",
      "p0_track_Chi2Dof       0.042942\n",
      "IP                     0.043879\n",
      "IPSig                  0.072506\n",
      "                     importance\n",
      "IPSig                  0.072506\n",
      "IP                     0.043879\n",
      "p0_track_Chi2Dof       0.042942\n",
      "VertexChi2             0.038781\n",
      "p1_track_Chi2Dof       0.037100\n",
      "IP_p1p2                0.035592\n",
      "ISO_SumBDT             0.034714\n",
      "IP_p0p2                0.033720\n",
      "p2_track_Chi2Dof       0.032479\n",
      "p0_IPSig               0.027679\n",
      "p2_IPSig               0.025179\n",
      "LifeTime               0.024793\n",
      "dira                   0.022913\n",
      "p2_IP                  0.022666\n",
      "p0_IsoBDT              0.022571\n",
      "p0_IP                  0.022199\n",
      "DOCAtwo                0.022036\n",
      "p1_IPSig               0.021841\n",
      "p2_IsoBDT              0.021568\n",
      "pt                     0.021221\n",
      "p1_IsoBDT              0.021180\n",
      "p1_IP                  0.020892\n",
      "p2_eta                 0.020832\n",
      "p1_eta                 0.020732\n",
      "p2_p                   0.020499\n",
      "p0_pt                  0.019558\n",
      "CDF3                   0.019451\n",
      "p0_p                   0.019255\n",
      "p1_p                   0.019053\n",
      "DOCAthree              0.018937\n",
      "FlightDistanceError    0.016910\n",
      "p1_pt                  0.016519\n",
      "CDF2                   0.016421\n",
      "DOCAone                0.016383\n",
      "p0_eta                 0.015775\n",
      "p2_pt                  0.015169\n",
      "FlightDistance         0.015011\n",
      "CDF1                   0.014434\n",
      "iso                    0.011978\n",
      "isolationa             0.008556\n",
      "isolationc             0.008320\n",
      "isolationb             0.007695\n",
      "isolationf             0.004032\n",
      "isolatione             0.003026\n",
      "isolationd             0.002999\n"
     ]
    },
    {
     "data": {
      "image/png": "[encoded data removed]",
      "text/plain": [
       "<Figure size 1440x720 with 1 Axes>"
      ]
     },
     "metadata": {
      "needs_background": "light"
     },
     "output_type": "display_data"
    }
   ],
   "source": [
    "import matplotlib \n",
    "import pandas as pd\n",
    "%matplotlib inline\n",
    "matplotlib.rcParams.update({'font.size': 22})\n",
    "#do code to support model\n",
    "#\"data\" is the X dataframe and model is the SKlearn object\n",
    "\n",
    "feats = {} # a dict to hold feature_name: feature_importance\n",
    "for feature, importance in zip(tn[variables].columns, GBC.feature_importances_):\n",
    "    feats[feature] = importance #add the name/value pair \n",
    "\n",
    "\n",
    "importancez = pd.DataFrame.from_dict(feats, orient='index').rename(columns={0: 'importance'})\n",
    "print(importancez.sort_values(by='importance', ascending=True))\n",
    "importancez.sort_values(by='importance', ascending=False).plot(kind='bar', rot=90, figsize=(20,10))\n",
    "\n",
    "print(importancez.sort_values(by='importance', ascending=False))"
   ]
  },
  {
   "cell_type": "code",
   "execution_count": 80,
   "metadata": {},
   "outputs": [
    {
     "name": "stdout",
     "output_type": "stream",
     "text": [
      "                  importance\n",
      "IPSig               0.150664\n",
      "IP                  0.058094\n",
      "p0_track_Chi2Dof    0.056267\n",
      "VertexChi2          0.050187\n",
      "LifeTime            0.037862\n",
      "p0_IPSig            0.034258\n",
      "p1_track_Chi2Dof    0.033887\n",
      "p2_track_Chi2Dof    0.032857\n",
      "ISO_SumBDT          0.032117\n",
      "IP_p0p2             0.025555\n",
      "iso                 0.024880\n",
      "dira                0.024110\n",
      "IP_p1p2             0.023591\n",
      "p0_IP               0.020850\n",
      "p1_IsoBDT           0.018307\n",
      "pt                  0.017694\n",
      "p1_IPSig            0.017692\n",
      "p2_IPSig            0.017261\n",
      "p2_IP               0.017107\n",
      "p0_IsoBDT           0.016792\n",
      "p0_p                0.016776\n",
      "p2_eta              0.016514\n",
      "p1_eta              0.015841\n",
      "DOCAone             0.015735\n",
      "['importance']\n"
     ]
    },
    {
     "data": {
      "text/plain": [
       "[['LifeTime', 0.03786165447566093],\n",
       " ['dira', 0.024110195704911748],\n",
       " ['IP', 0.05809354013071767],\n",
       " ['IPSig', 0.15066390486284637],\n",
       " ['VertexChi2', 0.05018690375894943],\n",
       " ['pt', 0.017693697915652194],\n",
       " ['DOCAone', 0.01573506256996643],\n",
       " ['IP_p0p2', 0.025555081185857753],\n",
       " ['IP_p1p2', 0.02359050937185219],\n",
       " ['iso', 0.02488022213018628],\n",
       " ['ISO_SumBDT', 0.03211702458033512],\n",
       " ['p0_IsoBDT', 0.016792139847873404],\n",
       " ['p1_IsoBDT', 0.018307032504126342],\n",
       " ['p0_track_Chi2Dof', 0.05626723981356726],\n",
       " ['p1_track_Chi2Dof', 0.03388745002802058],\n",
       " ['p2_track_Chi2Dof', 0.032856750438582265],\n",
       " ['p0_IP', 0.020850214656711115],\n",
       " ['p2_IP', 0.017106873076858785],\n",
       " ['p0_IPSig', 0.034257869419502145],\n",
       " ['p1_IPSig', 0.017691872408007216],\n",
       " ['p2_IPSig', 0.0172609568785372],\n",
       " ['p0_p', 0.016775548528598132],\n",
       " ['p1_eta', 0.015841193211931108],\n",
       " ['p2_eta', 0.016514429340401558]]"
      ]
     },
     "execution_count": 80,
     "metadata": {},
     "output_type": "execute_result"
    }
   ],
   "source": [
    "variables2 = importancez[~(importancez['importance'] <= 0.0155)] \n",
    "print(variables2.sort_values(by='importance', ascending=False))\n",
    "#GBCvariables= variables2[0].tolist()\n",
    "#print(GBCvariables)\n",
    "print(variables2.columns.values)\n",
    "variables2.reset_index().values.tolist()"
   ]
  },
  {
   "cell_type": "markdown",
   "metadata": {},
   "source": [
    "# Check agreement test"
   ]
  },
  {
   "cell_type": "code",
   "execution_count": 41,
   "metadata": {},
   "outputs": [
    {
     "name": "stdout",
     "output_type": "stream",
     "text": [
      "KS metric 0.0668077251986 True\n"
     ]
    }
   ],
   "source": [
    "check_agreement = pandas.read_csv(folder + 'check_agreement.csv', index_col='id')\n",
    "agreement_probs = baseline.predict_proba(check_agreement[variables])[:, 1]\n",
    "\n",
    "ks = evaluation.compute_ks(\n",
    "    agreement_probs[check_agreement['signal'].values == 0],\n",
    "    agreement_probs[check_agreement['signal'].values == 1],\n",
    "    check_agreement[check_agreement['signal'] == 0]['weight'].values,\n",
    "    check_agreement[check_agreement['signal'] == 1]['weight'].values)\n",
    "print('KS metric', ks, ks < 0.09)\n"
   ]
  },
  {
   "cell_type": "markdown",
   "metadata": {},
   "source": [
    "# Reduce the variables"
   ]
  },
  {
   "cell_type": "code",
   "execution_count": 11,
   "metadata": {},
   "outputs": [],
   "source": [
    "X_train=tn[variables]\n",
    "X_test=val[variables]\n",
    "y_train=tn['signal']\n",
    "y_test=val['signal']"
   ]
  },
  {
   "cell_type": "code",
   "execution_count": 45,
   "metadata": {
    "scrolled": false
   },
   "outputs": [
    {
     "name": "stdout",
     "output_type": "stream",
     "text": [
      "Accuracy: 87.00%\n",
      "Thresh=0.001, n=45, Accuracy: 87.00%\n",
      "Thresh=0.002, n=44, Accuracy: 86.97%\n",
      "Thresh=0.003, n=43, Accuracy: 87.03%\n",
      "Thresh=0.005, n=42, Accuracy: 86.92%\n",
      "Thresh=0.006, n=41, Accuracy: 86.90%\n",
      "Thresh=0.007, n=40, Accuracy: 87.25%\n",
      "Thresh=0.012, n=39, Accuracy: 87.05%\n",
      "Thresh=0.012, n=38, Accuracy: 87.14%\n",
      "Thresh=0.012, n=37, Accuracy: 87.10%\n",
      "Thresh=0.012, n=36, Accuracy: 86.76%\n",
      "Thresh=0.012, n=35, Accuracy: 86.97%\n",
      "Thresh=0.013, n=34, Accuracy: 86.65%\n",
      "Thresh=0.013, n=33, Accuracy: 86.74%\n",
      "Thresh=0.013, n=32, Accuracy: 86.98%\n",
      "Thresh=0.013, n=31, Accuracy: 87.13%\n",
      "Thresh=0.015, n=30, Accuracy: 86.98%\n",
      "Thresh=0.015, n=29, Accuracy: 86.77%\n",
      "Thresh=0.015, n=28, Accuracy: 86.92%\n",
      "Thresh=0.015, n=27, Accuracy: 87.02%\n",
      "Thresh=0.015, n=26, Accuracy: 86.80%\n",
      "Thresh=0.015, n=25, Accuracy: 86.83%\n",
      "Thresh=0.016, n=24, Accuracy: 87.00%\n",
      "Thresh=0.016, n=23, Accuracy: 86.94%\n",
      "Thresh=0.017, n=22, Accuracy: 86.95%\n",
      "Thresh=0.017, n=21, Accuracy: 86.77%\n",
      "Thresh=0.017, n=20, Accuracy: 86.72%\n",
      "Thresh=0.017, n=19, Accuracy: 86.74%\n",
      "Thresh=0.017, n=18, Accuracy: 86.71%\n",
      "Thresh=0.018, n=17, Accuracy: 86.86%\n",
      "Thresh=0.018, n=16, Accuracy: 86.74%\n",
      "Thresh=0.018, n=15, Accuracy: 86.29%\n",
      "Thresh=0.021, n=14, Accuracy: 86.52%\n",
      "Thresh=0.024, n=13, Accuracy: 86.33%\n",
      "Thresh=0.024, n=12, Accuracy: 86.13%\n",
      "Thresh=0.025, n=11, Accuracy: 85.96%\n",
      "Thresh=0.026, n=10, Accuracy: 85.44%\n",
      "Thresh=0.032, n=9, Accuracy: 85.51%\n",
      "Thresh=0.033, n=8, Accuracy: 84.49%\n",
      "Thresh=0.034, n=7, Accuracy: 84.20%\n",
      "Thresh=0.034, n=6, Accuracy: 83.37%\n",
      "Thresh=0.038, n=5, Accuracy: 83.05%\n",
      "Thresh=0.050, n=4, Accuracy: 80.49%\n",
      "Thresh=0.056, n=3, Accuracy: 79.16%\n",
      "Thresh=0.058, n=2, Accuracy: 78.27%\n",
      "Thresh=0.151, n=1, Accuracy: 78.23%\n"
     ]
    }
   ],
   "source": [
    "#for loop code by Jason Brownlee\n",
    "#https://machinelearningmastery.com/feature-importance-and-feature-selection-with-xgboost-in-python/\n",
    "# use feature importance for feature selection\n",
    "from numpy import loadtxt\n",
    "from numpy import sort\n",
    "from xgboost import XGBClassifier\n",
    "from sklearn.model_selection import train_test_split\n",
    "from sklearn.metrics import accuracy_score\n",
    "from sklearn.feature_selection import SelectFromModel\n",
    "\n",
    "model = GradientBoostingClassifier(n_estimators=40, learning_rate=0.1, subsample=0.4,\n",
    "                                      min_samples_leaf=3, max_depth=6, random_state=11)\n",
    "model.fit(X_train, y_train)\n",
    "# make predictions for test data and evaluate\n",
    "y_pred = model.predict(X_test)\n",
    "predictions = [round(value) for value in y_pred]\n",
    "accuracy = accuracy_score(y_test, predictions)\n",
    "print(\"Accuracy: %.2f%%\" % (accuracy * 100.0))\n",
    "# Fit model using each importance as a threshold\n",
    "thresholds = sort(model.feature_importances_)\n",
    "for thresh in thresholds:\n",
    "        # select features using threshold\n",
    "    selection = SelectFromModel(model, threshold=thresh, prefit=True)\n",
    "    select_X_train = selection.transform(X_train)\n",
    "    # train model\n",
    "    selection_model = GradientBoostingClassifier(n_estimators=40, \n",
    "                                                 learning_rate=0.1, subsample=0.4,\n",
    "                                                 min_samples_leaf=3, max_depth=6,\n",
    "                                                 random_state=11)\n",
    "    selection_model.fit(select_X_train, y_train)\n",
    "    # evaluate model \n",
    "    select_X_test = selection.transform(X_test)\n",
    "    y_pred = selection_model.predict(select_X_test)\n",
    "    predictions = [round(value) for value in y_pred]\n",
    "    accuracy = accuracy_score(y_test, predictions)\n",
    "    print(\"Thresh=%.3f, n=%d, Accuracy: %.2f%%\" % \n",
    "          (thresh, select_X_train.shape[1], accuracy*100.0))"
   ]
  },
  {
   "cell_type": "code",
   "execution_count": 48,
   "metadata": {},
   "outputs": [
    {
     "name": "stdout",
     "output_type": "stream",
     "text": [
      "[ 0.00134882  0.00171656  0.00253974  0.00526723  0.00637701  0.00700034\n",
      "  0.01169232  0.01196515  0.0120502   0.01235119  0.01238425  0.01257527\n",
      "  0.01263686  0.01331523  0.01335558  0.01451226  0.01462379  0.01463006\n",
      "  0.01470064  0.01495723  0.01510292  0.01573506  0.01584119  0.01651443\n",
      "  0.01677555  0.01679214  0.01710687  0.01726096  0.01769187  0.0176937\n",
      "  0.01830703  0.02085021  0.02359051  0.0241102   0.02488022  0.02555508\n",
      "  0.03211702  0.03285675  0.03388745  0.03425787  0.03786165  0.0501869\n",
      "  0.05626724  0.05809354  0.1506639 ]\n"
     ]
    }
   ],
   "source": [
    "print(thresholds)"
   ]
  },
  {
   "cell_type": "code",
   "execution_count": 47,
   "metadata": {
    "scrolled": true
   },
   "outputs": [
    {
     "ename": "AttributeError",
     "evalue": "'numpy.ndarray' object has no attribute 'named_steps'",
     "output_type": "error",
     "traceback": [
      "\u001b[1;31m---------------------------------------------------------------------------\u001b[0m",
      "\u001b[1;31mAttributeError\u001b[0m                            Traceback (most recent call last)",
      "\u001b[1;32m<ipython-input-47-58328771e62c>\u001b[0m in \u001b[0;36m<module>\u001b[1;34m()\u001b[0m\n\u001b[0;32m      1\u001b[0m \u001b[1;32mfor\u001b[0m \u001b[0mx\u001b[0m \u001b[1;32min\u001b[0m \u001b[0mmodel\u001b[0m\u001b[1;33m.\u001b[0m\u001b[0mestimators_\u001b[0m\u001b[1;33m:\u001b[0m\u001b[1;33m\u001b[0m\u001b[0m\n\u001b[1;32m----> 2\u001b[1;33m     \u001b[0mprint\u001b[0m\u001b[1;33m(\u001b[0m\u001b[0mx\u001b[0m\u001b[1;33m.\u001b[0m\u001b[0mnamed_steps\u001b[0m\u001b[1;33m[\u001b[0m\u001b[1;34m'classifier'\u001b[0m\u001b[1;33m]\u001b[0m\u001b[1;33m.\u001b[0m\u001b[0mfeature_importances_\u001b[0m\u001b[1;33m)\u001b[0m\u001b[1;33m\u001b[0m\u001b[0m\n\u001b[0m",
      "\u001b[1;31mAttributeError\u001b[0m: 'numpy.ndarray' object has no attribute 'named_steps'"
     ]
    }
   ],
   "source": [
    "df3 = result[~(result['Value'] <= 10)]  "
   ]
  },
  {
   "cell_type": "code",
   "execution_count": 67,
   "metadata": {
    "scrolled": true
   },
   "outputs": [
    {
     "name": "stdout",
     "output_type": "stream",
     "text": [
      "Accuracy: 86.996%\n",
      "Thresh=0.001349, n=45, Accuracy: 86.996%\n",
      "Thresh=0.001717, n=44, Accuracy: 86.974%\n",
      "Thresh=0.002540, n=43, Accuracy: 87.025%\n",
      "Thresh=0.005267, n=42, Accuracy: 86.922%\n",
      "Thresh=0.006377, n=41, Accuracy: 86.900%\n",
      "Thresh=0.007000, n=40, Accuracy: 87.255%\n",
      "Thresh=0.011692, n=39, Accuracy: 87.055%\n",
      "Thresh=0.011965, n=38, Accuracy: 87.144%\n",
      "Thresh=0.012050, n=37, Accuracy: 87.099%\n",
      "Thresh=0.012351, n=36, Accuracy: 86.759%\n",
      "Thresh=0.012384, n=35, Accuracy: 86.966%\n",
      "Thresh=0.012575, n=34, Accuracy: 86.648%\n",
      "Thresh=0.012637, n=33, Accuracy: 86.737%\n",
      "Thresh=0.013315, n=32, Accuracy: 86.981%\n",
      "Thresh=0.013356, n=31, Accuracy: 87.129%\n",
      "Thresh=0.014512, n=30, Accuracy: 86.981%\n",
      "Thresh=0.014624, n=29, Accuracy: 86.766%\n",
      "Thresh=0.014630, n=28, Accuracy: 86.922%\n",
      "Thresh=0.014701, n=27, Accuracy: 87.018%\n",
      "Thresh=0.014957, n=26, Accuracy: 86.796%\n",
      "Thresh=0.015103, n=25, Accuracy: 86.833%\n",
      "Thresh=0.015735, n=24, Accuracy: 87.003%\n",
      "Thresh=0.015841, n=23, Accuracy: 86.944%\n",
      "Thresh=0.016514, n=22, Accuracy: 86.951%\n",
      "Thresh=0.016776, n=21, Accuracy: 86.774%\n",
      "Thresh=0.016792, n=20, Accuracy: 86.722%\n",
      "Thresh=0.017107, n=19, Accuracy: 86.744%\n",
      "Thresh=0.017261, n=18, Accuracy: 86.715%\n",
      "Thresh=0.017692, n=17, Accuracy: 86.855%\n",
      "Thresh=0.017694, n=16, Accuracy: 86.744%\n",
      "Thresh=0.018307, n=15, Accuracy: 86.285%\n",
      "Thresh=0.020850, n=14, Accuracy: 86.522%\n",
      "Thresh=0.023591, n=13, Accuracy: 86.330%\n",
      "Thresh=0.024110, n=12, Accuracy: 86.130%\n",
      "Thresh=0.024880, n=11, Accuracy: 85.960%\n",
      "Thresh=0.025555, n=10, Accuracy: 85.441%\n",
      "Thresh=0.032117, n=9, Accuracy: 85.508%\n",
      "Thresh=0.032857, n=8, Accuracy: 84.487%\n",
      "Thresh=0.033887, n=7, Accuracy: 84.198%\n",
      "Thresh=0.034258, n=6, Accuracy: 83.369%\n",
      "Thresh=0.037862, n=5, Accuracy: 83.051%\n",
      "Thresh=0.050187, n=4, Accuracy: 80.490%\n",
      "Thresh=0.056267, n=3, Accuracy: 79.158%\n",
      "Thresh=0.058094, n=2, Accuracy: 78.270%\n",
      "Thresh=0.150664, n=1, Accuracy: 78.225%\n"
     ]
    }
   ],
   "source": [
    "#for loop code by Jason Brownlee\n",
    "#https://machinelearningmastery.com/feature-importance-and-feature-selection-with-xgboost-in-python/\n",
    "# use feature importance for feature selection\n",
    "#Gradiante boosting info\n",
    "# http://scikit-learn.org/stable/modules/generated/sklearn.ensemble.GradientBoostingClassifier.html\n",
    "\n",
    "from numpy import loadtxt\n",
    "from numpy import sort\n",
    "from xgboost import XGBClassifier\n",
    "from sklearn.model_selection import train_test_split\n",
    "from sklearn.metrics import accuracy_score\n",
    "from sklearn.feature_selection import SelectFromModel\n",
    "model = GradientBoostingClassifier(n_estimators=40, learning_rate=0.1, subsample=0.4,\n",
    "                                      min_samples_leaf=3, max_depth=6, random_state=11)\n",
    "model.fit(X_train, y_train)\n",
    "# make predictions for test data and evaluate\n",
    "y_pred = model.predict(X_test)\n",
    "predictions = [round(value) for value in y_pred]\n",
    "accuracy = accuracy_score(y_test, predictions)\n",
    "print(\"Accuracy: %.3f%%\" % (accuracy * 100.0))\n",
    "# Fit model using each importance as a threshold\n",
    "thresholds = sort(model.feature_importances_)\n",
    "for thresh in thresholds:\n",
    "        # select features using threshold\n",
    "    selection = SelectFromModel(model, threshold=thresh, prefit=True)\n",
    "    select_X_train = selection.transform(X_train)\n",
    "    # train model\n",
    "    selection_model = GradientBoostingClassifier(n_estimators=40, learning_rate=0.1, subsample=0.4,\n",
    "                                      min_samples_leaf=3, max_depth=6, random_state=11)\n",
    "    selection_model.fit(select_X_train, y_train)\n",
    "    # evaluate model \n",
    "    select_X_test = selection.transform(X_test)\n",
    "    y_pred = selection_model.predict(select_X_test)\n",
    "    predictions = [round(value) for value in y_pred]\n",
    "    accuracy = accuracy_score(y_test, predictions)\n",
    "    print(\"Thresh=%.6f, n=%d, Accuracy: %.3f%%\" % (thresh, select_X_train.shape[1], accuracy*100.0))"
   ]
  },
  {
   "cell_type": "code",
   "execution_count": 15,
   "metadata": {
    "scrolled": false
   },
   "outputs": [
    {
     "name": "stdout",
     "output_type": "stream",
     "text": [
      "AUC: 0.984050\n",
      "Thresh=0.002999, n=45, AUC: 0.984050\n",
      "Thresh=0.003026, n=44, AUC: 0.983583\n",
      "Thresh=0.004032, n=43, AUC: 0.984252\n",
      "Thresh=0.007695, n=42, AUC: 0.984945\n",
      "Thresh=0.008320, n=41, AUC: 0.985029\n",
      "Thresh=0.008556, n=40, AUC: 0.983928\n",
      "Thresh=0.011978, n=39, AUC: 0.982815\n",
      "Thresh=0.014434, n=38, AUC: 0.983715\n",
      "Thresh=0.015011, n=37, AUC: 0.983858\n",
      "Thresh=0.015169, n=36, AUC: 0.985136\n",
      "Thresh=0.015775, n=35, AUC: 0.984464\n",
      "Thresh=0.016383, n=34, AUC: 0.984668\n",
      "Thresh=0.016421, n=33, AUC: 0.983949\n",
      "Thresh=0.016519, n=32, AUC: 0.984217\n",
      "Thresh=0.016910, n=31, AUC: 0.984202\n",
      "Thresh=0.018937, n=30, AUC: 0.983723\n",
      "Thresh=0.019053, n=29, AUC: 0.983153\n",
      "Thresh=0.019255, n=28, AUC: 0.983194\n",
      "Thresh=0.019451, n=27, AUC: 0.982219\n",
      "Thresh=0.019558, n=26, AUC: 0.983566\n",
      "Thresh=0.020499, n=25, AUC: 0.984289\n",
      "Thresh=0.020732, n=24, AUC: 0.983030\n",
      "Thresh=0.020832, n=23, AUC: 0.982702\n",
      "Thresh=0.020892, n=22, AUC: 0.981903\n",
      "Thresh=0.021180, n=21, AUC: 0.982184\n",
      "Thresh=0.021221, n=20, AUC: 0.983123\n",
      "Thresh=0.021568, n=19, AUC: 0.981621\n",
      "Thresh=0.021841, n=18, AUC: 0.981509\n",
      "Thresh=0.022036, n=17, AUC: 0.980400\n",
      "Thresh=0.022199, n=16, AUC: 0.981149\n",
      "Thresh=0.022571, n=15, AUC: 0.979629\n",
      "Thresh=0.022666, n=14, AUC: 0.980524\n",
      "Thresh=0.022913, n=13, AUC: 0.980108\n",
      "Thresh=0.024793, n=12, AUC: 0.980628\n",
      "Thresh=0.025179, n=11, AUC: 0.978924\n",
      "Thresh=0.027679, n=10, AUC: 0.978799\n",
      "Thresh=0.032479, n=9, AUC: 0.977865\n",
      "Thresh=0.033720, n=8, AUC: 0.977296\n",
      "Thresh=0.034714, n=7, AUC: 0.973143\n",
      "Thresh=0.035592, n=6, AUC: 0.965965\n",
      "Thresh=0.037100, n=5, AUC: 0.961653\n",
      "Thresh=0.038781, n=4, AUC: 0.962452\n",
      "Thresh=0.042942, n=3, AUC: 0.954894\n",
      "Thresh=0.043879, n=2, AUC: 0.951143\n",
      "Thresh=0.072506, n=1, AUC: 0.948675\n"
     ]
    }
   ],
   "source": [
    "#ADD WEIGHTED AUC SCORING\n",
    "\n",
    "#for loop code by Jason Brownlee\n",
    "#https://machinelearningmastery.com/feature-importance-and-feature-selection-with-xgboost-in-python/\n",
    "# use feature importance for feature selection\n",
    "#Gradiante boosting info\n",
    "# http://scikit-learn.org/stable/modules/generated/sklearn.ensemble.GradientBoostingClassifier.html\n",
    "\n",
    "from numpy import loadtxt\n",
    "from numpy import sort\n",
    "from xgboost import XGBClassifier\n",
    "from sklearn.model_selection import train_test_split\n",
    "from sklearn.metrics import accuracy_score\n",
    "from sklearn.feature_selection import SelectFromModel\n",
    "\n",
    "\n",
    "model = GradientBoostingClassifier(n_estimators=200, learning_rate=0.1, subsample=0.4,\n",
    "                                      min_samples_leaf=3, max_depth=6, random_state=11)\n",
    "model.fit(X_train, y_train)\n",
    "# make predictions for test data and evaluate\n",
    "val_probs = model.predict_proba(X_test)[:, 1]\n",
    "roc_auc = evaluation.roc_auc_truncated(y_test, val_probs)\n",
    "print(\"AUC: %.6f\" % (roc_auc))\n",
    "# Fit model using each importance as a threshold\n",
    "thresholds = sort(model.feature_importances_)\n",
    "for thresh in thresholds:\n",
    "        # select features using threshold\n",
    "    selection = SelectFromModel(model, threshold=thresh, prefit=True)\n",
    "    select_X_train = selection.transform(X_train)\n",
    "    # train model\n",
    "    selection_model = GradientBoostingClassifier(n_estimators=200, learning_rate=0.1, subsample=0.4,\n",
    "                                      min_samples_leaf=3, max_depth=6, random_state=11)\n",
    "    selection_model.fit(select_X_train, y_train)\n",
    "    # evaluate model \n",
    "    select_X_test = selection.transform(X_test)\n",
    "\n",
    "    val_probs = selection_model.predict_proba(select_X_test)[:, 1]\n",
    "    roc_auc = evaluation.roc_auc_truncated(y_test, val_probs)\n",
    "    \n",
    "    print(\"Thresh=%.6f, n=%d, AUC: %.6f\" % (thresh, select_X_train.shape[1], roc_auc))"
   ]
  },
  {
   "cell_type": "markdown",
   "metadata": {},
   "source": [
    "# Thresh=0.015169, n=36, AUC: 0.985136"
   ]
  },
  {
   "cell_type": "code",
   "execution_count": 19,
   "metadata": {},
   "outputs": [
    {
     "name": "stdout",
     "output_type": "stream",
     "text": [
      "AUC: 0.984050\n",
      "AUC: 0.985136\n"
     ]
    },
    {
     "ename": "AttributeError",
     "evalue": "'GradientBoostingClassifier' object has no attribute 'save_model'",
     "output_type": "error",
     "traceback": [
      "\u001b[1;31m---------------------------------------------------------------------------\u001b[0m",
      "\u001b[1;31mAttributeError\u001b[0m                            Traceback (most recent call last)",
      "\u001b[1;32m<ipython-input-19-f3846cf88fcf>\u001b[0m in \u001b[0;36m<module>\u001b[1;34m()\u001b[0m\n\u001b[0;32m     16\u001b[0m \u001b[0mroc_auc\u001b[0m \u001b[1;33m=\u001b[0m \u001b[0mevaluation\u001b[0m\u001b[1;33m.\u001b[0m\u001b[0mroc_auc_truncated\u001b[0m\u001b[1;33m(\u001b[0m\u001b[0my_test\u001b[0m\u001b[1;33m,\u001b[0m \u001b[0mval_probs\u001b[0m\u001b[1;33m)\u001b[0m\u001b[1;33m\u001b[0m\u001b[0m\n\u001b[0;32m     17\u001b[0m \u001b[0mprint\u001b[0m\u001b[1;33m(\u001b[0m\u001b[1;34m\"AUC: %.6f\"\u001b[0m \u001b[1;33m%\u001b[0m \u001b[1;33m(\u001b[0m\u001b[0mroc_auc\u001b[0m\u001b[1;33m)\u001b[0m\u001b[1;33m)\u001b[0m\u001b[1;33m\u001b[0m\u001b[0m\n\u001b[1;32m---> 18\u001b[1;33m \u001b[0mselection_model\u001b[0m\u001b[1;33m.\u001b[0m\u001b[0msave_model\u001b[0m\u001b[1;33m(\u001b[0m\u001b[1;34m'GBC'\u001b[0m\u001b[1;33m)\u001b[0m\u001b[1;33m\u001b[0m\u001b[0m\n\u001b[0m\u001b[0;32m     19\u001b[0m \u001b[1;33m\u001b[0m\u001b[0m\n\u001b[0;32m     20\u001b[0m \u001b[0mfeatsF\u001b[0m \u001b[1;33m=\u001b[0m \u001b[1;33m{\u001b[0m\u001b[1;33m}\u001b[0m \u001b[1;31m# a dict to hold feature_name: feature_importance\u001b[0m\u001b[1;33m\u001b[0m\u001b[0m\n",
      "\u001b[1;31mAttributeError\u001b[0m: 'GradientBoostingClassifier' object has no attribute 'save_model'"
     ]
    }
   ],
   "source": [
    "model = GradientBoostingClassifier(n_estimators=200, learning_rate=0.1, subsample=0.4,\n",
    "                                      min_samples_leaf=3, max_depth=6, random_state=11)\n",
    "model.fit(X_train, y_train)\n",
    "# make predictions for test data and evaluate\n",
    "val_probs = model.predict_proba(X_test)[:, 1]\n",
    "roc_auc = evaluation.roc_auc_truncated(y_test, val_probs)\n",
    "print(\"AUC: %.6f\" % (roc_auc))\n",
    "\n",
    "selection = SelectFromModel(model, threshold=0.015169, prefit=True)\n",
    "select_X_train = selection.transform(X_train)\n",
    "selection_model = GradientBoostingClassifier(n_estimators=200, learning_rate=0.1, subsample=0.4,\n",
    "                                      min_samples_leaf=3, max_depth=6, random_state=11)\n",
    "selection_model.fit(select_X_train, y_train)\n",
    "select_X_test = selection.transform(X_test)\n",
    "val_probs = selection_model.predict_proba(select_X_test)[:, 1]\n",
    "roc_auc = evaluation.roc_auc_truncated(y_test, val_probs)\n",
    "print(\"AUC: %.6f\" % (roc_auc))\n",
    "#selection_model.save_model('GBC')\n",
    "      \n",
    "featsF = {} # a dict to hold feature_name: feature_importance\n",
    "for feature, importance in zip(select_X_train.columns, selection_model.feature_importances_):\n",
    "    featsF[feature] = importance #add the name/value pair \n",
    "\n",
    "\n",
    "importancez = pd.DataFrame.from_dict(featsF, orient='index').rename(columns={0: 'importance'})\n",
    "importancez.sort_values(by='importance', ascending=False).plot(kind='bar', rot=90, figsize=(20,10))\n",
    "\n",
    "print(importancez.sort_values(by='importance', ascending=False))\n"
   ]
  },
  {
   "cell_type": "code",
   "execution_count": 24,
   "metadata": {
    "scrolled": true
   },
   "outputs": [
    {
     "name": "stdout",
     "output_type": "stream",
     "text": [
      "                     importance\n",
      "IPSig                  0.072506\n",
      "IP                     0.043879\n",
      "p0_track_Chi2Dof       0.042942\n",
      "VertexChi2             0.038781\n",
      "p1_track_Chi2Dof       0.037100\n",
      "IP_p1p2                0.035592\n",
      "ISO_SumBDT             0.034714\n",
      "IP_p0p2                0.033720\n",
      "p2_track_Chi2Dof       0.032479\n",
      "p0_IPSig               0.027679\n",
      "p2_IPSig               0.025179\n",
      "LifeTime               0.024793\n",
      "dira                   0.022913\n",
      "p2_IP                  0.022666\n",
      "p0_IsoBDT              0.022571\n",
      "p0_IP                  0.022199\n",
      "DOCAtwo                0.022036\n",
      "p1_IPSig               0.021841\n",
      "p2_IsoBDT              0.021568\n",
      "pt                     0.021221\n",
      "p1_IsoBDT              0.021180\n",
      "p1_IP                  0.020892\n",
      "p2_eta                 0.020832\n",
      "p1_eta                 0.020732\n",
      "p2_p                   0.020499\n",
      "p0_pt                  0.019558\n",
      "CDF3                   0.019451\n",
      "p0_p                   0.019255\n",
      "p1_p                   0.019053\n",
      "DOCAthree              0.018937\n",
      "FlightDistanceError    0.016910\n",
      "p1_pt                  0.016519\n",
      "CDF2                   0.016421\n",
      "DOCAone                0.016383\n",
      "p0_eta                 0.015775\n",
      "p2_pt                  0.015169\n",
      "FlightDistance         0.015011\n",
      "CDF1                   0.014434\n",
      "iso                    0.011978\n",
      "isolationa             0.008556\n",
      "isolationc             0.008320\n",
      "isolationb             0.007695\n",
      "isolationf             0.004032\n",
      "isolatione             0.003026\n",
      "isolationd             0.002999\n"
     ]
    },
    {
     "data": {
      "image/png": "[encoded data removed]",
      "text/plain": [
       "<Figure size 1440x720 with 1 Axes>"
      ]
     },
     "metadata": {
      "needs_background": "light"
     },
     "output_type": "display_data"
    }
   ],
   "source": [
    "import pandas as pd\n",
    "featsF = {} # a dict to hold feature_name: feature_importance\n",
    "for feature, importance in zip(X_train.columns, model.feature_importances_):\n",
    "    featsF[feature] = importance #add the name/value pair \n",
    "\n",
    "\n",
    "importancez = pd.DataFrame.from_dict(featsF, orient='index').rename(columns={0: 'importance'})\n",
    "importancez.sort_values(by='importance', ascending=False).plot(kind='bar', rot=90, figsize=(20,10))\n",
    "\n",
    "print(importancez.sort_values(by='importance', ascending=False))\n"
   ]
  },
  {
   "cell_type": "markdown",
   "metadata": {},
   "source": [
    "# Further reduce variables"
   ]
  },
  {
   "cell_type": "code",
   "execution_count": 35,
   "metadata": {},
   "outputs": [
    {
     "name": "stdout",
     "output_type": "stream",
     "text": [
      "(54042, 50) (7642, 50)\n"
     ]
    }
   ],
   "source": [
    "tn, val = train_test_split(df, test_size=0.2,random_state=42,stratify=None)\n",
    "val = val[val['min_ANNmuon'] > 0.4]\n",
    "print(tn.shape, val.shape)"
   ]
  },
  {
   "cell_type": "code",
   "execution_count": 33,
   "metadata": {},
   "outputs": [
    {
     "name": "stdout",
     "output_type": "stream",
     "text": [
      "['LifeTime', 'dira', 'FlightDistanceError', 'IPSig', 'VertexChi2', 'pt', 'DOCAone', 'DOCAtwo', 'DOCAthree', 'IP_p0p2', 'IP_p1p2', 'CDF2', 'CDF3', 'ISO_SumBDT', 'p0_IsoBDT', 'p1_IsoBDT', 'p2_IsoBDT', 'p0_track_Chi2Dof', 'p1_track_Chi2Dof', 'p2_track_Chi2Dof', 'p0_IP', 'p1_IP', 'p2_IP', 'p0_IPSig', 'p1_IPSig', 'p2_IPSig', 'p0_pt', 'p1_pt', 'p2_pt', 'p0_p', 'p1_p', 'p2_p', 'p0_eta', 'p1_eta', 'p2_eta']\n"
     ]
    }
   ],
   "source": [
    "#After evaluting SelectFromModel & CORRPLOT\n",
    "v = list(tn.columns.values)\n",
    "variables = []\n",
    "for e in v:\n",
    "    if e not in ('signal', 'mass', 'production', 'min_ANNmuon', 'SPDhits', \n",
    "                 'isolationa', 'isolationb', 'isolationc', 'isolationd', 'isolatione', 'isolationf', \n",
    "                'FlightDistance', 'CDF1', 'iso',\n",
    "                'IP'):\n",
    "        variables.append(e)\n",
    "#print(v)\n",
    "print(variables)\n",
    "X_train=tn[variables]\n",
    "X_test=val[variables]\n",
    "y_train=tn['signal']\n",
    "y_test=val['signal']"
   ]
  },
  {
   "cell_type": "code",
   "execution_count": 34,
   "metadata": {},
   "outputs": [
    {
     "name": "stdout",
     "output_type": "stream",
     "text": [
      "AUC: 0.984291\n"
     ]
    }
   ],
   "source": [
    "model = GradientBoostingClassifier(n_estimators=200, learning_rate=0.1, subsample=0.4,\n",
    "                                      min_samples_leaf=3, max_depth=6, random_state=11)\n",
    "model.fit(X_train, y_train)\n",
    "# make predictions for test data and evaluate\n",
    "val_probs = model.predict_proba(X_test)[:, 1]\n",
    "roc_auc = evaluation.roc_auc_truncated(y_test, val_probs)\n",
    "print(\"AUC: %.6f\" % (roc_auc))"
   ]
  },
  {
   "attachments": {},
   "cell_type": "markdown",
   "metadata": {},
   "source": [
    "### ^Removing IP hurts the AUC score ( vs. 0.985136)"
   ]
  },
  {
   "cell_type": "code",
   "execution_count": 55,
   "metadata": {},
   "outputs": [
    {
     "name": "stdout",
     "output_type": "stream",
     "text": [
      "(54042, 50) (7642, 50)\n"
     ]
    }
   ],
   "source": [
    "tn, val = train_test_split(df, test_size=0.2,random_state=42,stratify=None)\n",
    "val = val[val['min_ANNmuon'] > 0.4]\n",
    "print(tn.shape, val.shape)"
   ]
  },
  {
   "cell_type": "code",
   "execution_count": 56,
   "metadata": {},
   "outputs": [
    {
     "name": "stdout",
     "output_type": "stream",
     "text": [
      "['IPSig', 'p0_track_Chi2Dof', 'p1_track_Chi2Dof', 'p2_track_Chi2Dof', 'VertexChi2', 'ISO_SumBDT']\n"
     ]
    }
   ],
   "source": [
    "#After evaluting SelectFromModel & CORRPLOT\n",
    "v = list(tn.columns.values)\n",
    "variables = []\n",
    "for e in v:\n",
    "    if e not in ('signal', 'mass', 'production', 'min_ANNmuon', 'SPDhits', \n",
    "                 'isolationa', 'isolationb', 'isolationc', 'isolationd', 'isolatione', 'isolationf', \n",
    "                'FlightDistance', 'CDF1', 'iso',\n",
    "                'p1_pt'):\n",
    "        variables.append(e)\n",
    "#print(v)\n",
    "print(variables)\n",
    "X_train=tn[variables]\n",
    "\n",
    "y_train=tn['signal']\n"
   ]
  },
  {
   "cell_type": "code",
   "execution_count": 57,
   "metadata": {},
   "outputs": [
    {
     "ename": "ValueError",
     "evalue": "Number of features of the model must match the input. Model n_features is 6 and input n_features is 35 ",
     "output_type": "error",
     "traceback": [
      "\u001b[1;31m---------------------------------------------------------------------------\u001b[0m",
      "\u001b[1;31mValueError\u001b[0m                                Traceback (most recent call last)",
      "\u001b[1;32m<ipython-input-57-ae0dcae9a19d>\u001b[0m in \u001b[0;36m<module>\u001b[1;34m()\u001b[0m\n\u001b[0;32m      3\u001b[0m \u001b[0mmodel\u001b[0m\u001b[1;33m.\u001b[0m\u001b[0mfit\u001b[0m\u001b[1;33m(\u001b[0m\u001b[0mX_train\u001b[0m\u001b[1;33m,\u001b[0m \u001b[0my_train\u001b[0m\u001b[1;33m)\u001b[0m\u001b[1;33m\u001b[0m\u001b[0m\n\u001b[0;32m      4\u001b[0m \u001b[1;31m# make predictions for test data and evaluate\u001b[0m\u001b[1;33m\u001b[0m\u001b[1;33m\u001b[0m\u001b[0m\n\u001b[1;32m----> 5\u001b[1;33m \u001b[0mval_probs\u001b[0m \u001b[1;33m=\u001b[0m \u001b[0mmodel\u001b[0m\u001b[1;33m.\u001b[0m\u001b[0mpredict_proba\u001b[0m\u001b[1;33m(\u001b[0m\u001b[0mX_test\u001b[0m\u001b[1;33m)\u001b[0m\u001b[1;33m[\u001b[0m\u001b[1;33m:\u001b[0m\u001b[1;33m,\u001b[0m \u001b[1;36m1\u001b[0m\u001b[1;33m]\u001b[0m\u001b[1;33m\u001b[0m\u001b[0m\n\u001b[0m\u001b[0;32m      6\u001b[0m \u001b[0mroc_auc\u001b[0m \u001b[1;33m=\u001b[0m \u001b[0mevaluation\u001b[0m\u001b[1;33m.\u001b[0m\u001b[0mroc_auc_truncated\u001b[0m\u001b[1;33m(\u001b[0m\u001b[0my_test\u001b[0m\u001b[1;33m,\u001b[0m \u001b[0mval_probs\u001b[0m\u001b[1;33m)\u001b[0m\u001b[1;33m\u001b[0m\u001b[0m\n\u001b[0;32m      7\u001b[0m \u001b[0mprint\u001b[0m\u001b[1;33m(\u001b[0m\u001b[1;34m\"AUC: %.6f\"\u001b[0m \u001b[1;33m%\u001b[0m \u001b[1;33m(\u001b[0m\u001b[0mroc_auc\u001b[0m\u001b[1;33m)\u001b[0m\u001b[1;33m)\u001b[0m\u001b[1;33m\u001b[0m\u001b[0m\n",
      "\u001b[1;32m~\\Anaconda3\\lib\\site-packages\\sklearn\\ensemble\\gradient_boosting.py\u001b[0m in \u001b[0;36mpredict_proba\u001b[1;34m(self, X)\u001b[0m\n\u001b[0;32m   1576\u001b[0m             \u001b[0mclasses\u001b[0m \u001b[0mcorresponds\u001b[0m \u001b[0mto\u001b[0m \u001b[0mthat\u001b[0m \u001b[1;32min\u001b[0m \u001b[0mthe\u001b[0m \u001b[0mattribute\u001b[0m\u001b[0;31m \u001b[0m\u001b[0;31m`\u001b[0m\u001b[0mclasses_\u001b[0m\u001b[0;31m`\u001b[0m\u001b[1;33m.\u001b[0m\u001b[1;33m\u001b[0m\u001b[0m\n\u001b[0;32m   1577\u001b[0m         \"\"\"\n\u001b[1;32m-> 1578\u001b[1;33m         \u001b[0mscore\u001b[0m \u001b[1;33m=\u001b[0m \u001b[0mself\u001b[0m\u001b[1;33m.\u001b[0m\u001b[0mdecision_function\u001b[0m\u001b[1;33m(\u001b[0m\u001b[0mX\u001b[0m\u001b[1;33m)\u001b[0m\u001b[1;33m\u001b[0m\u001b[0m\n\u001b[0m\u001b[0;32m   1579\u001b[0m         \u001b[1;32mtry\u001b[0m\u001b[1;33m:\u001b[0m\u001b[1;33m\u001b[0m\u001b[0m\n\u001b[0;32m   1580\u001b[0m             \u001b[1;32mreturn\u001b[0m \u001b[0mself\u001b[0m\u001b[1;33m.\u001b[0m\u001b[0mloss_\u001b[0m\u001b[1;33m.\u001b[0m\u001b[0m_score_to_proba\u001b[0m\u001b[1;33m(\u001b[0m\u001b[0mscore\u001b[0m\u001b[1;33m)\u001b[0m\u001b[1;33m\u001b[0m\u001b[0m\n",
      "\u001b[1;32m~\\Anaconda3\\lib\\site-packages\\sklearn\\ensemble\\gradient_boosting.py\u001b[0m in \u001b[0;36mdecision_function\u001b[1;34m(self, X)\u001b[0m\n\u001b[0;32m   1492\u001b[0m         \"\"\"\n\u001b[0;32m   1493\u001b[0m         \u001b[0mX\u001b[0m \u001b[1;33m=\u001b[0m \u001b[0mcheck_array\u001b[0m\u001b[1;33m(\u001b[0m\u001b[0mX\u001b[0m\u001b[1;33m,\u001b[0m \u001b[0mdtype\u001b[0m\u001b[1;33m=\u001b[0m\u001b[0mDTYPE\u001b[0m\u001b[1;33m,\u001b[0m \u001b[0morder\u001b[0m\u001b[1;33m=\u001b[0m\u001b[1;34m\"C\"\u001b[0m\u001b[1;33m)\u001b[0m\u001b[1;33m\u001b[0m\u001b[0m\n\u001b[1;32m-> 1494\u001b[1;33m         \u001b[0mscore\u001b[0m \u001b[1;33m=\u001b[0m \u001b[0mself\u001b[0m\u001b[1;33m.\u001b[0m\u001b[0m_decision_function\u001b[0m\u001b[1;33m(\u001b[0m\u001b[0mX\u001b[0m\u001b[1;33m)\u001b[0m\u001b[1;33m\u001b[0m\u001b[0m\n\u001b[0m\u001b[0;32m   1495\u001b[0m         \u001b[1;32mif\u001b[0m \u001b[0mscore\u001b[0m\u001b[1;33m.\u001b[0m\u001b[0mshape\u001b[0m\u001b[1;33m[\u001b[0m\u001b[1;36m1\u001b[0m\u001b[1;33m]\u001b[0m \u001b[1;33m==\u001b[0m \u001b[1;36m1\u001b[0m\u001b[1;33m:\u001b[0m\u001b[1;33m\u001b[0m\u001b[0m\n\u001b[0;32m   1496\u001b[0m             \u001b[1;32mreturn\u001b[0m \u001b[0mscore\u001b[0m\u001b[1;33m.\u001b[0m\u001b[0mravel\u001b[0m\u001b[1;33m(\u001b[0m\u001b[1;33m)\u001b[0m\u001b[1;33m\u001b[0m\u001b[0m\n",
      "\u001b[1;32m~\\Anaconda3\\lib\\site-packages\\sklearn\\ensemble\\gradient_boosting.py\u001b[0m in \u001b[0;36m_decision_function\u001b[1;34m(self, X)\u001b[0m\n\u001b[0;32m   1122\u001b[0m         \u001b[1;31m# for use in inner loop, not raveling the output in single-class case,\u001b[0m\u001b[1;33m\u001b[0m\u001b[1;33m\u001b[0m\u001b[0m\n\u001b[0;32m   1123\u001b[0m         \u001b[1;31m# not doing input validation.\u001b[0m\u001b[1;33m\u001b[0m\u001b[1;33m\u001b[0m\u001b[0m\n\u001b[1;32m-> 1124\u001b[1;33m         \u001b[0mscore\u001b[0m \u001b[1;33m=\u001b[0m \u001b[0mself\u001b[0m\u001b[1;33m.\u001b[0m\u001b[0m_init_decision_function\u001b[0m\u001b[1;33m(\u001b[0m\u001b[0mX\u001b[0m\u001b[1;33m)\u001b[0m\u001b[1;33m\u001b[0m\u001b[0m\n\u001b[0m\u001b[0;32m   1125\u001b[0m         \u001b[0mpredict_stages\u001b[0m\u001b[1;33m(\u001b[0m\u001b[0mself\u001b[0m\u001b[1;33m.\u001b[0m\u001b[0mestimators_\u001b[0m\u001b[1;33m,\u001b[0m \u001b[0mX\u001b[0m\u001b[1;33m,\u001b[0m \u001b[0mself\u001b[0m\u001b[1;33m.\u001b[0m\u001b[0mlearning_rate\u001b[0m\u001b[1;33m,\u001b[0m \u001b[0mscore\u001b[0m\u001b[1;33m)\u001b[0m\u001b[1;33m\u001b[0m\u001b[0m\n\u001b[0;32m   1126\u001b[0m         \u001b[1;32mreturn\u001b[0m \u001b[0mscore\u001b[0m\u001b[1;33m\u001b[0m\u001b[0m\n",
      "\u001b[1;32m~\\Anaconda3\\lib\\site-packages\\sklearn\\ensemble\\gradient_boosting.py\u001b[0m in \u001b[0;36m_init_decision_function\u001b[1;34m(self, X)\u001b[0m\n\u001b[0;32m   1112\u001b[0m         \u001b[1;34m\"\"\"Check input and compute prediction of ``init``. \"\"\"\u001b[0m\u001b[1;33m\u001b[0m\u001b[0m\n\u001b[0;32m   1113\u001b[0m         \u001b[0mself\u001b[0m\u001b[1;33m.\u001b[0m\u001b[0m_check_initialized\u001b[0m\u001b[1;33m(\u001b[0m\u001b[1;33m)\u001b[0m\u001b[1;33m\u001b[0m\u001b[0m\n\u001b[1;32m-> 1114\u001b[1;33m         \u001b[0mX\u001b[0m \u001b[1;33m=\u001b[0m \u001b[0mself\u001b[0m\u001b[1;33m.\u001b[0m\u001b[0mestimators_\u001b[0m\u001b[1;33m[\u001b[0m\u001b[1;36m0\u001b[0m\u001b[1;33m,\u001b[0m \u001b[1;36m0\u001b[0m\u001b[1;33m]\u001b[0m\u001b[1;33m.\u001b[0m\u001b[0m_validate_X_predict\u001b[0m\u001b[1;33m(\u001b[0m\u001b[0mX\u001b[0m\u001b[1;33m,\u001b[0m \u001b[0mcheck_input\u001b[0m\u001b[1;33m=\u001b[0m\u001b[1;32mTrue\u001b[0m\u001b[1;33m)\u001b[0m\u001b[1;33m\u001b[0m\u001b[0m\n\u001b[0m\u001b[0;32m   1115\u001b[0m         \u001b[1;32mif\u001b[0m \u001b[0mX\u001b[0m\u001b[1;33m.\u001b[0m\u001b[0mshape\u001b[0m\u001b[1;33m[\u001b[0m\u001b[1;36m1\u001b[0m\u001b[1;33m]\u001b[0m \u001b[1;33m!=\u001b[0m \u001b[0mself\u001b[0m\u001b[1;33m.\u001b[0m\u001b[0mn_features\u001b[0m\u001b[1;33m:\u001b[0m\u001b[1;33m\u001b[0m\u001b[0m\n\u001b[0;32m   1116\u001b[0m             raise ValueError(\"X.shape[1] should be {0:d}, not {1:d}.\".format(\n",
      "\u001b[1;32m~\\Anaconda3\\lib\\site-packages\\sklearn\\tree\\tree.py\u001b[0m in \u001b[0;36m_validate_X_predict\u001b[1;34m(self, X, check_input)\u001b[0m\n\u001b[0;32m    374\u001b[0m                              \u001b[1;34m\"match the input. Model n_features is %s and \"\u001b[0m\u001b[1;33m\u001b[0m\u001b[0m\n\u001b[0;32m    375\u001b[0m                              \u001b[1;34m\"input n_features is %s \"\u001b[0m\u001b[1;33m\u001b[0m\u001b[0m\n\u001b[1;32m--> 376\u001b[1;33m                              % (self.n_features_, n_features))\n\u001b[0m\u001b[0;32m    377\u001b[0m \u001b[1;33m\u001b[0m\u001b[0m\n\u001b[0;32m    378\u001b[0m         \u001b[1;32mreturn\u001b[0m \u001b[0mX\u001b[0m\u001b[1;33m\u001b[0m\u001b[0m\n",
      "\u001b[1;31mValueError\u001b[0m: Number of features of the model must match the input. Model n_features is 6 and input n_features is 35 "
     ]
    }
   ],
   "source": [
    "model = GradientBoostingClassifier(n_estimators=200, learning_rate=0.1, subsample=0.4,\n",
    "                                      min_samples_leaf=3, max_depth=6, random_state=11)\n",
    "model.fit(X_train, y_train)\n",
    "# make predictions for test data and evaluate\n",
    "val_probs = model.predict_proba(X_test)[:, 1]\n",
    "roc_auc = evaluation.roc_auc_truncated(y_test, val_probs)\n",
    "print(\"AUC: %.6f\" % (roc_auc))"
   ]
  },
  {
   "cell_type": "markdown",
   "metadata": {},
   "source": [
    "### ^Removing p1_pt hurts the AUC score ( vs. 0.985136)"
   ]
  },
  {
   "cell_type": "markdown",
   "metadata": {},
   "source": [
    "# Train Final Model"
   ]
  },
  {
   "cell_type": "markdown",
   "metadata": {},
   "source": [
    "# Check correlation test"
   ]
  },
  {
   "cell_type": "code",
   "execution_count": 43,
   "metadata": {},
   "outputs": [
    {
     "name": "stdout",
     "output_type": "stream",
     "text": [
      "CvM metric 0.000924920372105 True\n"
     ]
    }
   ],
   "source": [
    "check_correlation = pandas.read_csv(folder + 'check_correlation.csv', index_col='id')\n",
    "correlation_probs = model.predict_proba(check_correlation[variables])[:, 1]\n",
    "cvm = evaluation.compute_cvm(correlation_probs, check_correlation['mass'])\n",
    "print ('CvM metric', cvm, cvm < 0.002)"
   ]
  },
  {
   "cell_type": "markdown",
   "metadata": {},
   "source": [
    "# Check agreement test"
   ]
  },
  {
   "cell_type": "code",
   "execution_count": 45,
   "metadata": {
    "scrolled": true
   },
   "outputs": [
    {
     "name": "stdout",
     "output_type": "stream",
     "text": [
      "KS metric 0.11849081547 False\n"
     ]
    }
   ],
   "source": [
    "check_agreement = pandas.read_csv(folder + 'check_agreement.csv', index_col='id')\n",
    "agreement_probs = model.predict_proba(check_agreement[variables])[:, 1]\n",
    "\n",
    "ks = evaluation.compute_ks(\n",
    "    agreement_probs[check_agreement['signal'].values == 0],\n",
    "    agreement_probs[check_agreement['signal'].values == 1],\n",
    "    check_agreement[check_agreement['signal'] == 0]['weight'].values,\n",
    "    check_agreement[check_agreement['signal'] == 1]['weight'].values)\n",
    "print('KS metric', ks, ks < 0.09)\n"
   ]
  },
  {
   "cell_type": "markdown",
   "metadata": {},
   "source": [
    "# !!! Model does not pass the agreement test between background and simulated data"
   ]
  },
  {
   "cell_type": "code",
   "execution_count": 58,
   "metadata": {},
   "outputs": [
    {
     "name": "stdout",
     "output_type": "stream",
     "text": [
      "(67553, 50)\n"
     ]
    }
   ],
   "source": [
    "folder = 'C:/MSDS/Proj/flav/'\n",
    "tn = pandas.read_csv(folder + 'training.csv', index_col='id')\n",
    "print(tn.shape)"
   ]
  },
  {
   "cell_type": "code",
   "execution_count": 59,
   "metadata": {},
   "outputs": [
    {
     "name": "stdout",
     "output_type": "stream",
     "text": [
      "['IPSig', 'p0_track_Chi2Dof', 'p1_track_Chi2Dof', 'p2_track_Chi2Dof', 'VertexChi2', 'ISO_SumBDT']\n"
     ]
    }
   ],
   "source": [
    "v = list(tn.columns.values)\n",
    "variables = ['IPSig', 'p0_track_Chi2Dof', 'p1_track_Chi2Dof', 'p2_track_Chi2Dof',\n",
    "             'VertexChi2', 'ISO_SumBDT']\n",
    "#print(v)\n",
    "print(variables)\n",
    "X_train=tn[variables]\n",
    "y_train=tn['signal']\n"
   ]
  },
  {
   "cell_type": "code",
   "execution_count": 60,
   "metadata": {},
   "outputs": [
    {
     "data": {
      "text/plain": [
       "GradientBoostingClassifier(criterion='friedman_mse', init=None,\n",
       "              learning_rate=0.1, loss='deviance', max_depth=6,\n",
       "              max_features=None, max_leaf_nodes=None,\n",
       "              min_impurity_split=1e-07, min_samples_leaf=3,\n",
       "              min_samples_split=2, min_weight_fraction_leaf=0.0,\n",
       "              n_estimators=100, presort='auto', random_state=11,\n",
       "              subsample=0.4, verbose=0, warm_start=False)"
      ]
     },
     "execution_count": 60,
     "metadata": {},
     "output_type": "execute_result"
    }
   ],
   "source": [
    "model = GradientBoostingClassifier(n_estimators=100, learning_rate=0.1, subsample=0.4,\n",
    "                                      min_samples_leaf=3, max_depth=6, random_state=11)\n",
    "model.fit(X_train, y_train)"
   ]
  },
  {
   "cell_type": "code",
   "execution_count": 61,
   "metadata": {},
   "outputs": [],
   "source": [
    "import pickle\n",
    "output = open('GBC2.pkl', 'wb')\n",
    "pickle.dump(model, output)"
   ]
  },
  {
   "cell_type": "code",
   "execution_count": 62,
   "metadata": {},
   "outputs": [],
   "source": [
    "output.close()"
   ]
  },
  {
   "cell_type": "markdown",
   "metadata": {},
   "source": [
    "# Check correlation test"
   ]
  },
  {
   "cell_type": "code",
   "execution_count": 63,
   "metadata": {},
   "outputs": [
    {
     "name": "stdout",
     "output_type": "stream",
     "text": [
      "CvM metric 0.000971422897351 True\n"
     ]
    }
   ],
   "source": [
    "check_correlation = pandas.read_csv(folder + 'check_correlation.csv', index_col='id')\n",
    "correlation_probs = model.predict_proba(check_correlation[variables])[:, 1]\n",
    "cvm = evaluation.compute_cvm(correlation_probs, check_correlation['mass'])\n",
    "print ('CvM metric', cvm, cvm < 0.002)"
   ]
  },
  {
   "cell_type": "markdown",
   "metadata": {},
   "source": [
    "# Check agreement test"
   ]
  },
  {
   "cell_type": "code",
   "execution_count": 64,
   "metadata": {
    "scrolled": true
   },
   "outputs": [
    {
     "name": "stdout",
     "output_type": "stream",
     "text": [
      "KS metric 0.0741062230299 True\n"
     ]
    }
   ],
   "source": [
    "check_agreement = pandas.read_csv(folder + 'check_agreement.csv', index_col='id')\n",
    "agreement_probs = model.predict_proba(check_agreement[variables])[:, 1]\n",
    "\n",
    "ks = evaluation.compute_ks(\n",
    "    agreement_probs[check_agreement['signal'].values == 0],\n",
    "    agreement_probs[check_agreement['signal'].values == 1],\n",
    "    check_agreement[check_agreement['signal'] == 0]['weight'].values,\n",
    "    check_agreement[check_agreement['signal'] == 1]['weight'].values)\n",
    "print('KS metric', ks, ks < 0.09)\n"
   ]
  },
  {
   "cell_type": "markdown",
   "metadata": {},
   "source": [
    "# Compute weighted AUC on the training data with min_ANNmuon > 0.4"
   ]
  },
  {
   "cell_type": "code",
   "execution_count": 29,
   "metadata": {},
   "outputs": [
    {
     "name": "stdout",
     "output_type": "stream",
     "text": [
      "AUC 0.996192492899\n"
     ]
    }
   ],
   "source": [
    "tn_eval = tn[tn['min_ANNmuon'] > 0.4]\n",
    "tn_probs = baseline.predict_proba(tn_eval[variables])[:, 1]\n",
    "roc_auc = evaluation.roc_auc_truncated(tn_eval['signal'], tn_probs)\n",
    "print( 'AUC', roc_auc)"
   ]
  },
  {
   "cell_type": "code",
   "execution_count": 30,
   "metadata": {},
   "outputs": [
    {
     "name": "stdout",
     "output_type": "stream",
     "text": [
      "AUC 0.986875563729\n"
     ]
    }
   ],
   "source": [
    "val_eval = val[val['min_ANNmuon'] > 0.4]\n",
    "val_probs = baseline.predict_proba(val_eval[variables])[:, 1]\n",
    "roc_auc = evaluation.roc_auc_truncated(val_eval['signal'], val_probs)\n",
    "print( 'AUC', roc_auc)"
   ]
  },
  {
   "cell_type": "code",
   "execution_count": 33,
   "metadata": {},
   "outputs": [
    {
     "name": "stdout",
     "output_type": "stream",
     "text": [
      "[[ 5426   822]\n",
      " [  847 23275]]\n"
     ]
    }
   ],
   "source": [
    "import numpy as np\n",
    "#print(tn_probs)\n",
    "\n",
    "confm_probstn = np.round(tn_probs, decimals=0)\n",
    "#print(confm_probs)\n",
    "\n",
    "from sklearn.metrics import confusion_matrix\n",
    "conf=confusion_matrix(tn_eval['signal'], confm_probstn)\n",
    "\n",
    "print(conf)\n",
    "\n",
    "\n"
   ]
  },
  {
   "cell_type": "code",
   "execution_count": 36,
   "metadata": {},
   "outputs": [
    {
     "name": "stdout",
     "output_type": "stream",
     "text": [
      "[[1218  333]\n",
      " [ 445 5646]]\n"
     ]
    }
   ],
   "source": [
    "import numpy as np\n",
    "#print(val_probs)\n",
    "\n",
    "confm_probsval = np.round(val_probs, decimals=0)\n",
    "#print(confm_probs)\n",
    "\n",
    "from sklearn.metrics import confusion_matrix\n",
    "conf=confusion_matrix(val_eval['signal'], confm_probsval)\n",
    "\n",
    "print(conf)\n",
    "\n",
    "\n"
   ]
  },
  {
   "cell_type": "code",
   "execution_count": 48,
   "metadata": {
    "scrolled": false
   },
   "outputs": [
    {
     "name": "stdout",
     "output_type": "stream",
     "text": [
      "Automatically created module for IPython interactive environment\n",
      "Confusion matrix, without normalization\n",
      "[[ 7366   433]\n",
      " [  234 29979]]\n"
     ]
    },
    {
     "data": {
      "image/png": "[encoded data removed]",
      "text/plain": [
       "<Figure size 432x288 with 2 Axes>"
      ]
     },
     "metadata": {
      "needs_background": "light"
     },
     "output_type": "display_data"
    }
   ],
   "source": [
    "print(__doc__)\n",
    "\n",
    "import itertools\n",
    "import numpy as np\n",
    "import matplotlib.pyplot as plt\n",
    "\n",
    "from sklearn import svm, datasets\n",
    "from sklearn.model_selection import train_test_split\n",
    "from sklearn.metrics import confusion_matrix\n",
    "def plot_confusion_matrix(cm, classes,\n",
    "                          normalize=False,\n",
    "                          title='Confusion matrix',\n",
    "                          cmap=plt.cm.Blues):\n",
    "    \"\"\"\n",
    "    This function prints and plots the confusion matrix.\n",
    "    Normalization can be applied by setting `normalize=True`.\n",
    "    \"\"\"\n",
    "    if normalize:\n",
    "        cm = cm.astype('float') / cm.sum(axis=1)[:, np.newaxis]\n",
    "        print(\"Normalized confusion matrix\")\n",
    "    else:\n",
    "        print('Confusion matrix, without normalization')\n",
    "\n",
    "    print(cm)\n",
    "\n",
    "    plt.imshow(cm, interpolation='nearest', cmap=cmap)\n",
    "    plt.title(title)\n",
    "    plt.colorbar()\n",
    "    tick_marks = np.arange(len(classes))\n",
    "    plt.xticks(tick_marks, classes, rotation=45)\n",
    "    plt.yticks(tick_marks, classes)\n",
    "\n",
    "    fmt = '.2f' if normalize else 'd'\n",
    "    thresh = cm.max() / 2.\n",
    "    for i, j in itertools.product(range(cm.shape[0]), range(cm.shape[1])):\n",
    "        plt.text(j, i, format(cm[i, j], fmt),\n",
    "                 horizontalalignment=\"center\",\n",
    "                 color=\"white\" if cm[i, j] > thresh else \"black\")\n",
    "\n",
    "    plt.ylabel('True label')\n",
    "    plt.xlabel('Predicted label')\n",
    "    plt.tight_layout()\n",
    "    \n",
    "np.set_printoptions(precision=2)\n",
    "\n",
    "# Plot non-normalized confusion matrix\n",
    "plt.figure()\n",
    "plot_confusion_matrix(conf, classes='01',\n",
    "                      title='Confusion matrix, without normalization')\n"
   ]
  },
  {
   "cell_type": "code",
   "execution_count": 49,
   "metadata": {},
   "outputs": [
    {
     "name": "stdout",
     "output_type": "stream",
     "text": [
      "Normalized confusion matrix\n",
      "[[ 0.94  0.06]\n",
      " [ 0.01  0.99]]\n"
     ]
    },
    {
     "data": {
      "image/png": "[encoded data removed]",
      "text/plain": [
       "<Figure size 432x288 with 2 Axes>"
      ]
     },
     "metadata": {
      "needs_background": "light"
     },
     "output_type": "display_data"
    }
   ],
   "source": [
    "plt.figure()\n",
    "plot_confusion_matrix(conf, classes='01', normalize=True,\n",
    "                      title='Normalized confusion matrix')\n",
    "\n",
    "plt.show()"
   ]
  },
  {
   "cell_type": "markdown",
   "metadata": {},
   "source": [
    "# Predict test, create file for kaggle"
   ]
  },
  {
   "cell_type": "code",
   "execution_count": 50,
   "metadata": {},
   "outputs": [],
   "source": [
    "test = pandas.read_csv(folder + 'test.csv', index_col='id')\n",
    "result = pandas.DataFrame({'id': test.index})\n",
    "result['prediction'] = decision_tree_model.predict_proba(test[variables])[:, 1]"
   ]
  },
  {
   "cell_type": "code",
   "execution_count": 51,
   "metadata": {},
   "outputs": [],
   "source": [
    "result.to_csv('JHbaseline.csv', index=False, sep=',')"
   ]
  },
  {
   "cell_type": "code",
   "execution_count": 52,
   "metadata": {},
   "outputs": [
    {
     "name": "stdout",
     "output_type": "stream",
     "text": [
      " Volume in drive C is Windows\n",
      " Volume Serial Number is 1C17-4C29\n",
      "\n",
      " Directory of C:\\MSDS\\Proj\\flavours-of-physics-start-master\n",
      "\n",
      "\n",
      " Directory of C:\\MSDS\\Proj\\flavours-of-physics-start-master\n",
      "\n",
      "10/01/2018  11:07 PM        24,671,773 baseline.csv\n",
      "               1 File(s)     24,671,773 bytes\n",
      "               0 Dir(s)  80,393,232,384 bytes free\n"
     ]
    }
   ],
   "source": [
    "ls -l baseline.csv"
   ]
  },
  {
   "cell_type": "code",
   "execution_count": 53,
   "metadata": {},
   "outputs": [],
   "source": [
    "result.to_csv?"
   ]
  },
  {
   "cell_type": "code",
   "execution_count": null,
   "metadata": {},
   "outputs": [],
   "source": [
    "?ls"
   ]
  }
 ],
 "metadata": {
  "kernelspec": {
   "display_name": "Python 3",
   "language": "python",
   "name": "python3"
  },
  "language_info": {
   "codemirror_mode": {
    "name": "ipython",
    "version": 3
   },
   "file_extension": ".py",
   "mimetype": "text/x-python",
   "name": "python",
   "nbconvert_exporter": "python",
   "pygments_lexer": "ipython3",
   "version": "3.6.6"
  }
 },
 "nbformat": 4,
 "nbformat_minor": 1
}
